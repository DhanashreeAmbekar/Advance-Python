{
 "cells": [
  {
   "cell_type": "markdown",
   "metadata": {},
   "source": [
    "# Wekipedia Webscraping"
   ]
  },
  {
   "cell_type": "code",
   "execution_count": 2,
   "metadata": {},
   "outputs": [
    {
     "name": "stdout",
     "output_type": "stream",
     "text": [
      "Requirement already satisfied: requests in d:\\advance python\\repository\\venv\\lib\\site-packages (2.32.3)Note: you may need to restart the kernel to use updated packages.\n",
      "\n",
      "Requirement already satisfied: beautifulsoup4 in d:\\advance python\\repository\\venv\\lib\\site-packages (4.12.3)\n",
      "Requirement already satisfied: pydantic in d:\\advance python\\repository\\venv\\lib\\site-packages (2.9.2)\n",
      "Collecting lxml\n",
      "  Downloading lxml-5.3.0-cp312-cp312-win_amd64.whl.metadata (3.9 kB)\n",
      "Requirement already satisfied: charset-normalizer<4,>=2 in d:\\advance python\\repository\\venv\\lib\\site-packages (from requests) (3.3.2)\n",
      "Requirement already satisfied: idna<4,>=2.5 in d:\\advance python\\repository\\venv\\lib\\site-packages (from requests) (3.8)\n",
      "Requirement already satisfied: urllib3<3,>=1.21.1 in d:\\advance python\\repository\\venv\\lib\\site-packages (from requests) (2.2.2)\n",
      "Requirement already satisfied: certifi>=2017.4.17 in d:\\advance python\\repository\\venv\\lib\\site-packages (from requests) (2024.8.30)\n",
      "Requirement already satisfied: soupsieve>1.2 in d:\\advance python\\repository\\venv\\lib\\site-packages (from beautifulsoup4) (2.6)\n",
      "Requirement already satisfied: annotated-types>=0.6.0 in d:\\advance python\\repository\\venv\\lib\\site-packages (from pydantic) (0.7.0)\n",
      "Requirement already satisfied: pydantic-core==2.23.4 in d:\\advance python\\repository\\venv\\lib\\site-packages (from pydantic) (2.23.4)\n",
      "Requirement already satisfied: typing-extensions>=4.6.1 in d:\\advance python\\repository\\venv\\lib\\site-packages (from pydantic) (4.12.2)\n",
      "Downloading lxml-5.3.0-cp312-cp312-win_amd64.whl (3.8 MB)\n",
      "   ---------------------------------------- 0.0/3.8 MB ? eta -:--:--\n",
      "   ---------------------------------------- 0.0/3.8 MB ? eta -:--:--\n",
      "   ---------------------------------------- 0.0/3.8 MB ? eta -:--:--\n",
      "   -- ------------------------------------- 0.3/3.8 MB ? eta -:--:--\n",
      "   -- ------------------------------------- 0.3/3.8 MB ? eta -:--:--\n",
      "   -- ------------------------------------- 0.3/3.8 MB ? eta -:--:--\n",
      "   ----- ---------------------------------- 0.5/3.8 MB 419.4 kB/s eta 0:00:08\n",
      "   ----- ---------------------------------- 0.5/3.8 MB 419.4 kB/s eta 0:00:08\n",
      "   -------- ------------------------------- 0.8/3.8 MB 532.8 kB/s eta 0:00:06\n",
      "   -------- ------------------------------- 0.8/3.8 MB 532.8 kB/s eta 0:00:06\n",
      "   -------- ------------------------------- 0.8/3.8 MB 532.8 kB/s eta 0:00:06\n",
      "   ---------- ----------------------------- 1.0/3.8 MB 457.5 kB/s eta 0:00:07\n",
      "   ---------- ----------------------------- 1.0/3.8 MB 457.5 kB/s eta 0:00:07\n",
      "   ------------- -------------------------- 1.3/3.8 MB 489.8 kB/s eta 0:00:06\n",
      "   ------------- -------------------------- 1.3/3.8 MB 489.8 kB/s eta 0:00:06\n",
      "   ------------- -------------------------- 1.3/3.8 MB 489.8 kB/s eta 0:00:06\n",
      "   ---------------- ----------------------- 1.6/3.8 MB 484.9 kB/s eta 0:00:05\n",
      "   ---------------- ----------------------- 1.6/3.8 MB 484.9 kB/s eta 0:00:05\n",
      "   ---------------- ----------------------- 1.6/3.8 MB 484.9 kB/s eta 0:00:05\n",
      "   ---------------- ----------------------- 1.6/3.8 MB 484.9 kB/s eta 0:00:05\n",
      "   ------------------- -------------------- 1.8/3.8 MB 426.5 kB/s eta 0:00:05\n",
      "   ------------------- -------------------- 1.8/3.8 MB 426.5 kB/s eta 0:00:05\n",
      "   ------------------- -------------------- 1.8/3.8 MB 426.5 kB/s eta 0:00:05\n",
      "   ------------------- -------------------- 1.8/3.8 MB 426.5 kB/s eta 0:00:05\n",
      "   ------------------- -------------------- 1.8/3.8 MB 426.5 kB/s eta 0:00:05\n",
      "   --------------------- ------------------ 2.1/3.8 MB 388.9 kB/s eta 0:00:05\n",
      "   --------------------- ------------------ 2.1/3.8 MB 388.9 kB/s eta 0:00:05\n",
      "   --------------------- ------------------ 2.1/3.8 MB 388.9 kB/s eta 0:00:05\n",
      "   ------------------------ --------------- 2.4/3.8 MB 389.0 kB/s eta 0:00:04\n",
      "   ------------------------ --------------- 2.4/3.8 MB 389.0 kB/s eta 0:00:04\n",
      "   ------------------------ --------------- 2.4/3.8 MB 389.0 kB/s eta 0:00:04\n",
      "   --------------------------- ------------ 2.6/3.8 MB 386.2 kB/s eta 0:00:04\n",
      "   --------------------------- ------------ 2.6/3.8 MB 386.2 kB/s eta 0:00:04\n",
      "   --------------------------- ------------ 2.6/3.8 MB 386.2 kB/s eta 0:00:04\n",
      "   --------------------------- ------------ 2.6/3.8 MB 386.2 kB/s eta 0:00:04\n",
      "   ------------------------------ --------- 2.9/3.8 MB 383.0 kB/s eta 0:00:03\n",
      "   ------------------------------ --------- 2.9/3.8 MB 383.0 kB/s eta 0:00:03\n",
      "   ------------------------------ --------- 2.9/3.8 MB 383.0 kB/s eta 0:00:03\n",
      "   ------------------------------ --------- 2.9/3.8 MB 383.0 kB/s eta 0:00:03\n",
      "   ------------------------------ --------- 2.9/3.8 MB 383.0 kB/s eta 0:00:03\n",
      "   -------------------------------- ------- 3.1/3.8 MB 361.9 kB/s eta 0:00:02\n",
      "   -------------------------------- ------- 3.1/3.8 MB 361.9 kB/s eta 0:00:02\n",
      "   -------------------------------- ------- 3.1/3.8 MB 361.9 kB/s eta 0:00:02\n",
      "   -------------------------------- ------- 3.1/3.8 MB 361.9 kB/s eta 0:00:02\n",
      "   ----------------------------------- ---- 3.4/3.8 MB 353.2 kB/s eta 0:00:02\n",
      "   ----------------------------------- ---- 3.4/3.8 MB 353.2 kB/s eta 0:00:02\n",
      "   ----------------------------------- ---- 3.4/3.8 MB 353.2 kB/s eta 0:00:02\n",
      "   -------------------------------------- - 3.7/3.8 MB 354.7 kB/s eta 0:00:01\n",
      "   -------------------------------------- - 3.7/3.8 MB 354.7 kB/s eta 0:00:01\n",
      "   -------------------------------------- - 3.7/3.8 MB 354.7 kB/s eta 0:00:01\n",
      "   ---------------------------------------- 3.8/3.8 MB 351.6 kB/s eta 0:00:00\n",
      "Installing collected packages: lxml\n",
      "Successfully installed lxml-5.3.0\n"
     ]
    }
   ],
   "source": [
    "%pip install requests beautifulsoup4 pydantic lxml"
   ]
  }
 ],
 "metadata": {
  "kernelspec": {
   "display_name": "venv",
   "language": "python",
   "name": "python3"
  },
  "language_info": {
   "codemirror_mode": {
    "name": "ipython",
    "version": 3
   },
   "file_extension": ".py",
   "mimetype": "text/x-python",
   "name": "python",
   "nbconvert_exporter": "python",
   "pygments_lexer": "ipython3",
   "version": "3.12.6"
  }
 },
 "nbformat": 4,
 "nbformat_minor": 2
}
